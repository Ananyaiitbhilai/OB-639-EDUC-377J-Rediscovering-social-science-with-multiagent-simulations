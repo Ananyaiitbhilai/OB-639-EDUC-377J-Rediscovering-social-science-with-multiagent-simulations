{
 "cells": [
  {
   "metadata": {
    "id": "Ys-0ZwABjzN2",
    "colab": {
     "base_uri": "https://localhost:8080/"
    },
    "executionInfo": {
     "status": "ok",
     "timestamp": 1759272559236,
     "user_tz": 420,
     "elapsed": 11510,
     "user": {
      "displayName": "Muhua Huang",
      "userId": "05198317925816707877"
     }
    },
    "outputId": "48f39aab-9ba9-4e46-8e87-694da1ead35e"
   },
   "cell_type": "code",
   "outputs": [
    {
     "output_type": "stream",
     "name": "stdout",
     "text": [
      "Requirement already satisfied: openai in /usr/local/lib/python3.12/dist-packages (1.108.0)\n",
      "Requirement already satisfied: pandas in /usr/local/lib/python3.12/dist-packages (2.2.2)\n",
      "Requirement already satisfied: numpy in /usr/local/lib/python3.12/dist-packages (2.0.2)\n",
      "Requirement already satisfied: matplotlib in /usr/local/lib/python3.12/dist-packages (3.10.0)\n",
      "Requirement already satisfied: anyio<5,>=3.5.0 in /usr/local/lib/python3.12/dist-packages (from openai) (4.10.0)\n",
      "Requirement already satisfied: distro<2,>=1.7.0 in /usr/local/lib/python3.12/dist-packages (from openai) (1.9.0)\n",
      "Requirement already satisfied: httpx<1,>=0.23.0 in /usr/local/lib/python3.12/dist-packages (from openai) (0.28.1)\n",
      "Requirement already satisfied: jiter<1,>=0.4.0 in /usr/local/lib/python3.12/dist-packages (from openai) (0.11.0)\n",
      "Requirement already satisfied: pydantic<3,>=1.9.0 in /usr/local/lib/python3.12/dist-packages (from openai) (2.11.9)\n",
      "Requirement already satisfied: sniffio in /usr/local/lib/python3.12/dist-packages (from openai) (1.3.1)\n",
      "Requirement already satisfied: tqdm>4 in /usr/local/lib/python3.12/dist-packages (from openai) (4.67.1)\n",
      "Requirement already satisfied: typing-extensions<5,>=4.11 in /usr/local/lib/python3.12/dist-packages (from openai) (4.15.0)\n",
      "Requirement already satisfied: python-dateutil>=2.8.2 in /usr/local/lib/python3.12/dist-packages (from pandas) (2.9.0.post0)\n",
      "Requirement already satisfied: pytz>=2020.1 in /usr/local/lib/python3.12/dist-packages (from pandas) (2025.2)\n",
      "Requirement already satisfied: tzdata>=2022.7 in /usr/local/lib/python3.12/dist-packages (from pandas) (2025.2)\n",
      "Requirement already satisfied: contourpy>=1.0.1 in /usr/local/lib/python3.12/dist-packages (from matplotlib) (1.3.3)\n",
      "Requirement already satisfied: cycler>=0.10 in /usr/local/lib/python3.12/dist-packages (from matplotlib) (0.12.1)\n",
      "Requirement already satisfied: fonttools>=4.22.0 in /usr/local/lib/python3.12/dist-packages (from matplotlib) (4.60.0)\n",
      "Requirement already satisfied: kiwisolver>=1.3.1 in /usr/local/lib/python3.12/dist-packages (from matplotlib) (1.4.9)\n",
      "Requirement already satisfied: packaging>=20.0 in /usr/local/lib/python3.12/dist-packages (from matplotlib) (25.0)\n",
      "Requirement already satisfied: pillow>=8 in /usr/local/lib/python3.12/dist-packages (from matplotlib) (11.3.0)\n",
      "Requirement already satisfied: pyparsing>=2.3.1 in /usr/local/lib/python3.12/dist-packages (from matplotlib) (3.2.4)\n",
      "Requirement already satisfied: idna>=2.8 in /usr/local/lib/python3.12/dist-packages (from anyio<5,>=3.5.0->openai) (3.10)\n",
      "Requirement already satisfied: certifi in /usr/local/lib/python3.12/dist-packages (from httpx<1,>=0.23.0->openai) (2025.8.3)\n",
      "Requirement already satisfied: httpcore==1.* in /usr/local/lib/python3.12/dist-packages (from httpx<1,>=0.23.0->openai) (1.0.9)\n",
      "Requirement already satisfied: h11>=0.16 in /usr/local/lib/python3.12/dist-packages (from httpcore==1.*->httpx<1,>=0.23.0->openai) (0.16.0)\n",
      "Requirement already satisfied: annotated-types>=0.6.0 in /usr/local/lib/python3.12/dist-packages (from pydantic<3,>=1.9.0->openai) (0.7.0)\n",
      "Requirement already satisfied: pydantic-core==2.33.2 in /usr/local/lib/python3.12/dist-packages (from pydantic<3,>=1.9.0->openai) (2.33.2)\n",
      "Requirement already satisfied: typing-inspection>=0.4.0 in /usr/local/lib/python3.12/dist-packages (from pydantic<3,>=1.9.0->openai) (0.4.1)\n",
      "Requirement already satisfied: six>=1.5 in /usr/local/lib/python3.12/dist-packages (from python-dateutil>=2.8.2->pandas) (1.17.0)\n"
     ]
    }
   ],
   "execution_count": 1,
   "source": [
    "# Install required packages if not already installed\n",
    "!pip install openai pandas numpy matplotlib # Uncomment this line if running in a new environment"
   ]
  },
  {
   "metadata": {
    "id": "PZ5AYut1jzN4"
   },
   "cell_type": "markdown",
   "source": [
    "# Individual Personality-Based LLM Demo\n",
    "\n",
    "Test how an LLM with your personality makes decisions compared to you.\n",
    "\n",
    "\n",
    "\n",
    "\n",
    "\n",
    "\n",
    "\n",
    "\n",
    "This demo is based on the study but is simplified for this class:\n",
    "- Huang, M., Zhang, X., Soto, C., & Evans, J. (2025). *Designing AI-agents with personalities: A psychometric approach*. arXiv. https://arxiv.org/abs/2410.19238"
   ]
  },
  {
   "cell_type": "code",
   "metadata": {
    "ExecuteTime": {
     "end_time": "2025-09-30T07:27:19.508666Z",
     "start_time": "2025-09-30T07:27:19.122342Z"
    },
    "id": "580tTIo6jzN4",
    "executionInfo": {
     "status": "ok",
     "timestamp": 1759272567744,
     "user_tz": 420,
     "elapsed": 2126,
     "user": {
      "displayName": "Muhua Huang",
      "userId": "05198317925816707877"
     }
    }
   },
   "source": [
    "import json\n",
    "import pandas as pd\n",
    "import numpy as np\n",
    "import matplotlib.pyplot as plt\n",
    "from openai import OpenAI\n",
    "import os\n",
    "import re"
   ],
   "outputs": [],
   "execution_count": 2
  },
  {
   "cell_type": "markdown",
   "metadata": {
    "id": "F6657u51jzN4"
   },
   "source": [
    "## Step 1: Configure OpenAI API"
   ]
  },
  {
   "cell_type": "code",
   "metadata": {
    "ExecuteTime": {
     "end_time": "2025-09-30T07:27:19.514171Z",
     "start_time": "2025-09-30T07:27:19.512524Z"
    },
    "id": "5cb3dJcQjzN4",
    "executionInfo": {
     "status": "ok",
     "timestamp": 1759272574609,
     "user_tz": 420,
     "elapsed": 194,
     "user": {
      "displayName": "Muhua Huang",
      "userId": "05198317925816707877"
     }
    }
   },
   "source": [
    "# Enter your OpenAI API key (DO NOT SHARE THIS KEY)\n",
    "OPENAI_API_KEY = \"\"\n",
    "\n",
    "\n",
    "# Initialize OpenAI client\n",
    "client = OpenAI(api_key=OPENAI_API_KEY)"
   ],
   "outputs": [],
   "execution_count": 3
  },
  {
   "cell_type": "markdown",
   "metadata": {
    "id": "1gQDz1KQjzN5"
   },
   "source": [
    "## Step 2: Enter Your Information\n",
    "\n",
    "Copy your data from the Google Drive CSV file."
   ]
  },
  {
   "cell_type": "code",
   "metadata": {
    "ExecuteTime": {
     "end_time": "2025-09-30T07:27:19.549157Z",
     "start_time": "2025-09-30T07:27:19.546781Z"
    },
    "id": "PETrNsgyjzN5",
    "colab": {
     "base_uri": "https://localhost:8080/"
    },
    "executionInfo": {
     "status": "ok",
     "timestamp": 1759272585375,
     "user_tz": 420,
     "elapsed": 6,
     "user": {
      "displayName": "Muhua Huang",
      "userId": "05198317925816707877"
     }
    },
    "outputId": "bec71b45-e73c-4d38-82f5-97564ba338fb"
   },
   "source": [
    "# Your Participant ID\n",
    "MY_ID = \"Blue-Pancakes-7\"  # Replace with your ID\n",
    "\n",
    "# Your Personality String (copy from CSV)\n",
    "MY_PERSONALITY = \"\"\n",
    "\n",
    "## If you didn't fill it out, you can use this example:\n",
    "# MY_PERSONALITY = \"\"\"I am quite outgoing, sociable. I am very assertive. I am usually full of energy. I am fairly systematic, usually keep things in order. I am fairly efficient, get things done fairly quickly. I am very dependable, steady. I am sometimes tense. I rarely feel sad. I am not particularly moody, rarely have up and down mood swings.\"\"\"\n",
    "\n",
    "# Your actual survey responses (1-10 scale)\n",
    "MY_RESPONSES = {\n",
    "    \"Exam_Cheating\": 0,\n",
    "    \"Honest_Feedback\": 0,\n",
    "    \"Investment\": 0,\n",
    "    \"Entrepreneurial_Venture\": 0\n",
    "}\n",
    "\n",
    "print(f\"Participant: {MY_ID}\")\n",
    "print(f\"\\nYour responses: {MY_RESPONSES}\")"
   ],
   "outputs": [
    {
     "output_type": "stream",
     "name": "stdout",
     "text": [
      "Participant: Blue-Pancakes-7\n",
      "\n",
      "Your responses: {'Exam_Cheating': 0, 'Honest_Feedback': 0, 'Investment': 0, 'Entrepreneurial_Venture': 0}\n"
     ]
    }
   ],
   "execution_count": 4
  },
  {
   "cell_type": "markdown",
   "metadata": {
    "id": "EZbu7hIcjzN5"
   },
   "source": [
    "## Step 3: Test LLM with Your Personality"
   ]
  },
  {
   "cell_type": "code",
   "metadata": {
    "ExecuteTime": {
     "end_time": "2025-09-30T07:27:19.560268Z",
     "start_time": "2025-09-30T07:27:19.556348Z"
    },
    "id": "vMgMs-C4jzN5",
    "colab": {
     "base_uri": "https://localhost:8080/"
    },
    "executionInfo": {
     "status": "ok",
     "timestamp": 1759272598163,
     "user_tz": 420,
     "elapsed": 1113,
     "user": {
      "displayName": "Muhua Huang",
      "userId": "05198317925816707877"
     }
    },
    "outputId": "f84b38b3-0179-4941-a438-24b71b6be99d"
   },
   "source": [
    "def test_llm(personality_string):\n",
    "    prompt = f\"\"\"You are participating in a psychological study. You have been assigned the following personality profile:\n",
    "\n",
    "{personality_string}\n",
    "\n",
    "Based on this personality profile, please respond to the following scenarios. For each scenario, provide a rating from 1 to 10 that reflects how someone with your assigned personality would likely act.\n",
    "\n",
    "### Scenario 1: Exam Cheating\n",
    "You are a student in a community college. During the final exams, you notice your best friend, who has been under a lot of personal stress lately, subtly looking at cheat notes. This exam is crucial for their scholarship.\n",
    "\n",
    "Scale: 1 = Being completely sympathetic and helping your friend out, 10 = Strictly adhering to ethical standards by reporting the cheating\n",
    "\n",
    "### Scenario 2: Honest Feedback\n",
    "A colleague and friend is up for a performance review that could affect their career. They've been underperforming and now seek your honest feedback.\n",
    "\n",
    "Scale: 1 = Softening feedback to protect their feelings, 10 = Giving brutally honest feedback\n",
    "\n",
    "### Scenario 3: Investment\n",
    "You have money to invest. Choose between a high-risk stock and a safe government bond.\n",
    "\n",
    "Scale: 1 = Choosing the high-risk stock, 10 = Choosing the safe government bond\n",
    "\n",
    "### Scenario 4: Entrepreneurial Venture\n",
    "You've developed a business idea that requires quitting your job and investing your savings.\n",
    "\n",
    "Scale: 1 = Pursuing the entrepreneurial venture, 10 = Keeping your current job security\n",
    "\n",
    "Please respond with ONLY a JSON object in this format:\n",
    "{{\n",
    "    \"Exam_Cheating\": [number 1-10],\n",
    "    \"Honest_Feedback\": [number 1-10],\n",
    "    \"Investment\": [number 1-10],\n",
    "    \"Entrepreneurial_Venture\": [number 1-10]\n",
    "}}\"\"\"\n",
    "\n",
    "    try:\n",
    "        response = client.chat.completions.create(\n",
    "            model=\"gpt-4.1-nano\",\n",
    "            messages=[\n",
    "                {\"role\": \"system\", \"content\": \"Respond based on the assigned personality. JSON only.\"},\n",
    "                {\"role\": \"user\", \"content\": prompt}\n",
    "            ],\n",
    "            temperature=0.7,\n",
    "            max_tokens=200\n",
    "        )\n",
    "\n",
    "        text = response.choices[0].message.content\n",
    "        json_match = re.search(r'\\{[^{}]*\\}', text)\n",
    "\n",
    "        if json_match:\n",
    "            return json.loads(json_match.group())\n",
    "        return json.loads(text)\n",
    "\n",
    "    except Exception as e:\n",
    "        print(f\"Error: {e}\")\n",
    "        return None\n",
    "\n",
    "# Test the LLM\n",
    "print(\"Testing LLM...\")\n",
    "llm_responses = test_llm(MY_PERSONALITY)\n",
    "\n",
    "if llm_responses:\n",
    "    print(\"\\nLLM Responses:\")\n",
    "    for scenario, score in llm_responses.items():\n",
    "        print(f\"  {scenario}: {score}\")\n",
    "else:\n",
    "    print(\"Failed to get response\")"
   ],
   "outputs": [
    {
     "output_type": "stream",
     "name": "stdout",
     "text": [
      "Testing LLM...\n",
      "\n",
      "LLM Responses:\n",
      "  Exam_Cheating: 8\n",
      "  Honest_Feedback: 7\n",
      "  Investment: 3\n",
      "  Entrepreneurial_Venture: 4\n"
     ]
    }
   ],
   "execution_count": 5
  },
  {
   "cell_type": "markdown",
   "metadata": {
    "id": "AFRHzjVhjzN5"
   },
   "source": [
    "## Step 4: Compare Results"
   ]
  },
  {
   "cell_type": "code",
   "metadata": {
    "ExecuteTime": {
     "end_time": "2025-09-30T07:27:19.571371Z",
     "start_time": "2025-09-30T07:27:19.568807Z"
    },
    "id": "hXzu11kujzN5",
    "colab": {
     "base_uri": "https://localhost:8080/"
    },
    "executionInfo": {
     "status": "ok",
     "timestamp": 1759273193904,
     "user_tz": 420,
     "elapsed": 45,
     "user": {
      "displayName": "Muhua Huang",
      "userId": "05198317925816707877"
     }
    },
    "outputId": "306f03cd-ceff-4a6d-9fda-67640e070722"
   },
   "source": [
    "if llm_responses:\n",
    "    # Calculate differences\n",
    "    print(\"\\nComparison:\")\n",
    "    print(\"-\" * 50)\n",
    "    print(f\"{'Scenario':<25} {'You':>5} {'LLM':>5} {'Diff':>6}\")\n",
    "    print(\"-\" * 50)\n",
    "\n",
    "    diffs = []\n",
    "    for scenario in MY_RESPONSES:\n",
    "        human = MY_RESPONSES[scenario]\n",
    "        llm = llm_responses.get(scenario, 0)\n",
    "        diff = abs(human - llm)\n",
    "        diffs.append(diff)\n",
    "        print(f\"{scenario:<25} {human:>5} {llm:>5} {diff:>6}\")\n",
    "\n",
    "    # Calculate similarity\n",
    "    avg_diff = np.mean(diffs)\n",
    "    similarity = max(0, 100 - (avg_diff * 10))\n",
    "\n",
    "    print(\"-\" * 50)\n",
    "    print(f\"\\nSimilarity: {similarity:.1f}%\")\n",
    "    print(f\"Average difference: {avg_diff:.1f} points\")"
   ],
   "outputs": [
    {
     "output_type": "stream",
     "name": "stdout",
     "text": [
      "\n",
      "Comparison:\n",
      "--------------------------------------------------\n",
      "Scenario                    You   LLM   Diff\n",
      "--------------------------------------------------\n",
      "Exam_Cheating                 0     8      8\n",
      "Honest_Feedback               0     7      7\n",
      "Investment                    0     3      3\n",
      "Entrepreneurial_Venture       0     4      4\n",
      "--------------------------------------------------\n",
      "\n",
      "Similarity: 45.0%\n",
      "Average difference: 5.5 points\n"
     ]
    }
   ],
   "execution_count": 6
  },
  {
   "cell_type": "markdown",
   "metadata": {
    "id": "o8Z8Jpy_jzN6"
   },
   "source": [
    "## Step 5: Visualize"
   ]
  },
  {
   "cell_type": "code",
   "metadata": {
    "ExecuteTime": {
     "end_time": "2025-09-30T07:27:19.580385Z",
     "start_time": "2025-09-30T07:27:19.577059Z"
    },
    "id": "5g2C1TpXjzN6"
   },
   "source": [
    "if llm_responses:\n",
    "    scenarios = list(MY_RESPONSES.keys())\n",
    "    human_scores = list(MY_RESPONSES.values())\n",
    "    llm_scores = [llm_responses.get(s, 0) for s in scenarios]\n",
    "\n",
    "    # Create plot\n",
    "    fig, ax = plt.subplots(figsize=(10, 6))\n",
    "\n",
    "    x = np.arange(len(scenarios))\n",
    "    width = 0.35\n",
    "\n",
    "    bars1 = ax.bar(x - width/2, human_scores, width, label='You', color='#2E86AB')\n",
    "    bars2 = ax.bar(x + width/2, llm_scores, width, label='LLM', color='#A23B72')\n",
    "\n",
    "    ax.set_ylabel('Score')\n",
    "    ax.set_title('Your Decisions vs LLM Decisions')\n",
    "    ax.set_xticks(x)\n",
    "    ax.set_xticklabels([s.replace('_', ' ') for s in scenarios], rotation=45, ha='right')\n",
    "    ax.legend()\n",
    "    ax.set_ylim(0, 11)\n",
    "    ax.grid(True, alpha=0.3)\n",
    "\n",
    "    # Add value labels\n",
    "    for bars in [bars1, bars2]:\n",
    "        for bar in bars:\n",
    "            height = bar.get_height()\n",
    "            ax.text(bar.get_x() + bar.get_width()/2., height + 0.1,\n",
    "                   f'{height:.0f}', ha='center', va='bottom')\n",
    "\n",
    "    plt.tight_layout()\n",
    "    plt.show()"
   ],
   "outputs": [],
   "execution_count": null
  },
  {
   "cell_type": "markdown",
   "metadata": {
    "id": "TrRexkafjzN6"
   },
   "source": [
    "## Reflection\n",
    "\n",
    "Consider:\n",
    "- How similar were the LLM's decisions to yours?\n",
    "- Which scenarios showed the biggest differences?\n",
    "- Does the LLM behavior match your personality profile?"
   ]
  },
  {
   "metadata": {
    "id": "nIyBkzjOjzN6"
   },
   "cell_type": "markdown",
   "source": []
  },
  {
   "cell_type": "markdown",
   "metadata": {
    "id": "1e5A0gNwjzN6"
   },
   "source": [
    "# Optional Extension:\n",
    "\n",
    "## Part 2: Cultural Adaptation & Communication\n",
    "\n",
    "In this section, you'll explore how personality relates to comfort in different cultural communication contexts."
   ]
  },
  {
   "cell_type": "markdown",
   "metadata": {
    "id": "I9ViXuP9jzN6"
   },
   "source": [
    "## Cultural Communication Scenarios\n",
    "\n",
    "Read the following two scenarios carefully. You'll be asked to rate your comfort level in each situation.\n",
    "\n",
    "### Scenario 1 – High-Context Communication Culture\n",
    "\n",
    "You've just been assigned by your company to relocate to a new country. In your new role, you quickly notice that much of the communication happens between the lines. People rarely state things directly; instead, meaning is conveyed through shared history, subtle cues, tone, and relationships. Informal gatherings after work or brief hallway chats often carry as much weight as formal meetings. To integrate, you need to pay close attention to non-verbal signals, read the atmosphere in the room, and invest time in building trust before colleagues feel comfortable being fully open. Success here depends as much on understanding the web of relationships as on your technical skills.\n",
    "\n",
    "### Scenario 2 – Low-Context Communication Culture\n",
    "\n",
    "You've just been assigned by your company to relocate to a new country. On your first day, you realize that conversations are refreshingly direct and explicit. Colleagues say exactly what they mean, and documents spell out expectations clearly, leaving little room for ambiguity. Meetings are structured, agendas are followed, and feedback tends to be candid, even when critical. You don't have to infer meaning from social context or long-standing relationships; instead, clarity and efficiency are valued. To succeed, you lean into being straightforward, asking precise questions, and stating your views clearly, which helps you gain credibility quickly."
   ]
  },
  {
   "cell_type": "markdown",
   "metadata": {
    "id": "U5OUemUIjzN6"
   },
   "source": [
    "## Step 6: Enter Your Cultural Adaptation Responses\n",
    "\n",
    "Rate each statement from 1 (Strongly Disagree) to 7 (Strongly Agree) for both scenarios.\n",
    "\n",
    "**For each scenario, rate:**\n",
    "- \"I feel comfortable adapting to everyday life in my new country.\"\n",
    "- \"I am confident in my ability to understand and adjust to local cultural norms.\"\n",
    "- \"I feel at ease interacting with people from the host culture in work and social settings.\""
   ]
  },
  {
   "cell_type": "code",
   "metadata": {
    "ExecuteTime": {
     "end_time": "2025-09-30T07:27:19.586912Z",
     "start_time": "2025-09-30T07:27:19.584605Z"
    },
    "id": "nkuWgo8SjzN6",
    "outputId": "0c51fb19-4168-466f-f69b-383559f02c52",
    "colab": {
     "base_uri": "https://localhost:8080/"
    },
    "executionInfo": {
     "status": "ok",
     "timestamp": 1759277031792,
     "user_tz": 420,
     "elapsed": 5,
     "user": {
      "displayName": "Muhua Huang",
      "userId": "05198317925816707877"
     }
    }
   },
   "source": [
    "# Your responses for HIGH-CONTEXT culture (Scenario 1)\n",
    "# Rate from 1 (Strongly Disagree) to 7 (Strongly Agree)\n",
    "MY_HIGH_CONTEXT_RESPONSES = {\n",
    "    \"comfort_everyday_life\": 0,      # \"I feel comfortable adapting to everyday life...\"\n",
    "    \"confidence_adjust_norms\": 0,    # \"I am confident in my ability to understand and adjust...\"\n",
    "    \"ease_interactions\": 0           # \"I feel at ease interacting with people...\"\n",
    "}\n",
    "\n",
    "# Your responses for LOW-CONTEXT culture (Scenario 2)\n",
    "# Rate from 1 (Strongly Disagree) to 7 (Strongly Agree)\n",
    "MY_LOW_CONTEXT_RESPONSES = {\n",
    "    \"comfort_everyday_life\": 0,      # \"I feel comfortable adapting to everyday life...\"\n",
    "    \"confidence_adjust_norms\": 0,    # \"I am confident in my ability to understand and adjust...\"\n",
    "    \"ease_interactions\": 0           # \"I feel at ease interacting with people...\"\n",
    "}\n",
    "\n",
    "print(\"✓ High-Context Culture Responses:\", MY_HIGH_CONTEXT_RESPONSES)\n",
    "print(\"✓ Low-Context Culture Responses:\", MY_LOW_CONTEXT_RESPONSES)"
   ],
   "outputs": [
    {
     "output_type": "stream",
     "name": "stdout",
     "text": [
      "✓ High-Context Culture Responses: {'comfort_everyday_life': 0, 'confidence_adjust_norms': 0, 'ease_interactions': 0}\n",
      "✓ Low-Context Culture Responses: {'comfort_everyday_life': 0, 'confidence_adjust_norms': 0, 'ease_interactions': 0}\n"
     ]
    }
   ],
   "execution_count": 9
  },
  {
   "cell_type": "markdown",
   "metadata": {
    "id": "rtZEL63IjzN6"
   },
   "source": [
    "## Research Hypotheses\n",
    "\n",
    "Now that you've provided your responses, let's consider what research predicts about personality and cultural adaptation:\n",
    "\n",
    "**H1.** Extroverts will report higher levels of comfort in expatriate assignments than introverts.\n",
    "\n",
    "**H2.** In high-context communication cultures, introverts will report higher levels of comfort than extroverts.\n",
    "\n",
    "**H3.** In low-context communication cultures, extroverts will report higher levels of comfort than introverts.\n",
    "\n",
    "Let's see how well an LLM with your personality matches your responses!"
   ]
  },
  {
   "cell_type": "markdown",
   "metadata": {
    "id": "2EELihDIjzN6"
   },
   "source": [
    "## Step 7: Test LLM on Cultural Scenarios"
   ]
  },
  {
   "cell_type": "code",
   "metadata": {
    "ExecuteTime": {
     "end_time": "2025-09-30T07:27:21.005981Z",
     "start_time": "2025-09-30T07:27:19.595953Z"
    },
    "id": "L8fwiplLjzN6",
    "colab": {
     "base_uri": "https://localhost:8080/"
    },
    "executionInfo": {
     "status": "ok",
     "timestamp": 1759277012766,
     "user_tz": 420,
     "elapsed": 1274,
     "user": {
      "displayName": "Muhua Huang",
      "userId": "05198317925816707877"
     }
    },
    "outputId": "fcf4f337-661b-41ae-de3e-ecdd32694c6c"
   },
   "source": [
    "def test_cultural_adaptation(personality_string):\n",
    "    prompt = f\"\"\"You are participating in a cross-cultural psychology study. You have been assigned the following personality profile:\n",
    "\n",
    "{personality_string}\n",
    "\n",
    "Based on this personality profile, please respond to two cultural scenarios. For each scenario, rate three statements on a scale from 1 to 7.\n",
    "\n",
    "### Scenario 1 – High-Context Communication Culture\n",
    "You've just been assigned by your company to relocate to a new country. In your new role, you quickly notice that much of the communication happens between the lines. People rarely state things directly; instead, meaning is conveyed through shared history, subtle cues, tone, and relationships. Informal gatherings after work or brief hallway chats often carry as much weight as formal meetings. To integrate, you need to pay close attention to non-verbal signals, read the atmosphere in the room, and invest time in building trust before colleagues feel comfortable being fully open. Success here depends as much on understanding the web of relationships as on your technical skills.\n",
    "\n",
    "Rate these statements (1 = Strongly Disagree, 7 = Strongly Agree):\n",
    "- \\\"I feel comfortable adapting to everyday life in my new country.\\\"\n",
    "- \\\"I am confident in my ability to understand and adjust to local cultural norms.\\\"\n",
    "- \\\"I feel at ease interacting with people from the host culture in work and social settings.\\\"\n",
    "\n",
    "### Scenario 2 – Low-Context Communication Culture\n",
    "You've just been assigned by your company to relocate to a new country. On your first day, you realize that conversations are refreshingly direct and explicit. Colleagues say exactly what they mean, and documents spell out expectations clearly, leaving little room for ambiguity. Meetings are structured, agendas are followed, and feedback tends to be candid, even when critical. You don't have to infer meaning from social context or long-standing relationships; instead, clarity and efficiency are valued. To succeed, you lean into being straightforward, asking precise questions, and stating your views clearly, which helps you gain credibility quickly.\n",
    "\n",
    "Rate the same three statements (1 = Strongly Disagree, 7 = Strongly Agree).\n",
    "\n",
    "Please respond with ONLY a JSON object in this format:\n",
    "{{\n",
    "    \\\"high_context\\\": {{\n",
    "        \\\"comfort_everyday_life\\\": [number 1-7],\n",
    "        \\\"confidence_adjust_norms\\\": [number 1-7],\n",
    "        \\\"ease_interactions\\\": [number 1-7]\n",
    "    }},\n",
    "    \\\"low_context\\\": {{\n",
    "        \\\"comfort_everyday_life\\\": [number 1-7],\n",
    "        \\\"confidence_adjust_norms\\\": [number 1-7],\n",
    "        \\\"ease_interactions\\\": [number 1-7]\n",
    "    }}\n",
    "}}\"\"\"\n",
    "\n",
    "    try:\n",
    "        response = client.chat.completions.create(\n",
    "            model=\"gpt-4.1-nano\",\n",
    "            messages=[\n",
    "                {\"role\": \"system\", \"content\": \"Respond based on the assigned personality. JSON only.\"},\n",
    "                {\"role\": \"user\", \"content\": prompt}\n",
    "            ],\n",
    "            temperature=0.7,\n",
    "            max_tokens=300\n",
    "        )\n",
    "\n",
    "        text = response.choices[0].message.content\n",
    "        json_match = re.search(r'\\\\{[\\\\s\\\\S]*\\\\}', text)\n",
    "\n",
    "        if json_match:\n",
    "            return json.loads(json_match.group())\n",
    "        return json.loads(text)\n",
    "\n",
    "    except Exception as e:\n",
    "        print(f\"Error: {e}\")\n",
    "        return None\n",
    "\n",
    "# Initialize OpenAI client (if not already done)\n",
    "client = OpenAI(api_key=OPENAI_API_KEY)\n",
    "\n",
    "# Test the LLM on cultural scenarios\n",
    "print(\"Testing LLM on cultural adaptation scenarios...\\n\")\n",
    "cultural_llm_responses = test_cultural_adaptation(MY_PERSONALITY)\n",
    "\n",
    "if cultural_llm_responses:\n",
    "    print(\"✓ LLM Responses Received\\n\")\n",
    "    print(\"High-Context Culture:\")\n",
    "    for item, score in cultural_llm_responses['high_context'].items():\n",
    "        print(f\"  {item.replace('_', ' ').title()}: {score}\")\n",
    "    print(\"\\nLow-Context Culture:\")\n",
    "    for item, score in cultural_llm_responses['low_context'].items():\n",
    "        print(f\"  {item.replace('_', ' ').title()}: {score}\")\n",
    "else:\n",
    "    print(\"❌ Failed to get response from LLM\")"
   ],
   "outputs": [
    {
     "output_type": "stream",
     "name": "stdout",
     "text": [
      "Testing LLM on cultural adaptation scenarios...\n",
      "\n",
      "✓ LLM Responses Received\n",
      "\n",
      "High-Context Culture:\n",
      "  Comfort Everyday Life: 4\n",
      "  Confidence Adjust Norms: 3\n",
      "  Ease Interactions: 4\n",
      "\n",
      "Low-Context Culture:\n",
      "  Comfort Everyday Life: 6\n",
      "  Confidence Adjust Norms: 6\n",
      "  Ease Interactions: 6\n"
     ]
    }
   ],
   "execution_count": 7
  },
  {
   "cell_type": "markdown",
   "metadata": {
    "id": "ub05UAGKjzN6"
   },
   "source": [
    "## Step 8: Compare Cultural Adaptation Results"
   ]
  },
  {
   "cell_type": "code",
   "metadata": {
    "ExecuteTime": {
     "end_time": "2025-09-30T07:27:21.018283Z",
     "start_time": "2025-09-30T07:27:21.012855Z"
    },
    "id": "Ktl7kvQ1jzN6",
    "colab": {
     "base_uri": "https://localhost:8080/"
    },
    "executionInfo": {
     "status": "ok",
     "timestamp": 1759277035684,
     "user_tz": 420,
     "elapsed": 6,
     "user": {
      "displayName": "Muhua Huang",
      "userId": "05198317925816707877"
     }
    },
    "outputId": "5505094a-98ea-41f2-eb71-8c046cdb0e99"
   },
   "source": [
    "if cultural_llm_responses:\n",
    "    # Calculate average comfort scores\n",
    "    def avg_score(responses):\n",
    "        return np.mean(list(responses.values()))\n",
    "\n",
    "    # Your scores\n",
    "    your_high = avg_score(MY_HIGH_CONTEXT_RESPONSES)\n",
    "    your_low = avg_score(MY_LOW_CONTEXT_RESPONSES)\n",
    "\n",
    "    # LLM scores\n",
    "    llm_high = avg_score(cultural_llm_responses['high_context'])\n",
    "    llm_low = avg_score(cultural_llm_responses['low_context'])\n",
    "\n",
    "    print(\"\\n\" + \"=\"*60)\n",
    "    print(\"CULTURAL ADAPTATION COMPARISON\")\n",
    "    print(\"=\"*60)\n",
    "\n",
    "    print(f\"\\n{'Scenario':<30} {'You':>10} {'LLM':>10} {'Diff':>10}\")\n",
    "    print(\"-\"*60)\n",
    "    print(f\"{'High-Context Culture':<30} {your_high:>10.2f} {llm_high:>10.2f} {abs(your_high - llm_high):>10.2f}\")\n",
    "    print(f\"{'Low-Context Culture':<30} {your_low:>10.2f} {llm_low:>10.2f} {abs(your_low - llm_low):>10.2f}\")\n",
    "    print(\"-\"*60)\n",
    "\n",
    "    # Individual item comparison\n",
    "    print(\"\\n\\nDETAILED ITEM COMPARISON\")\n",
    "    print(\"=\"*60)\n",
    "\n",
    "    print(\"\\nHigh-Context Culture:\")\n",
    "    print(f\"{'Item':<35} {'You':>8} {'LLM':>8} {'Diff':>8}\")\n",
    "    print(\"-\"*60)\n",
    "    for item in MY_HIGH_CONTEXT_RESPONSES:\n",
    "        you = MY_HIGH_CONTEXT_RESPONSES[item]\n",
    "        llm = cultural_llm_responses['high_context'][item]\n",
    "        print(f\"{item.replace('_', ' ').title():<35} {you:>8} {llm:>8} {abs(you-llm):>8.1f}\")\n",
    "\n",
    "    print(\"\\nLow-Context Culture:\")\n",
    "    print(f\"{'Item':<35} {'You':>8} {'LLM':>8} {'Diff':>8}\")\n",
    "    print(\"-\"*60)\n",
    "    for item in MY_LOW_CONTEXT_RESPONSES:\n",
    "        you = MY_LOW_CONTEXT_RESPONSES[item]\n",
    "        llm = cultural_llm_responses['low_context'][item]\n",
    "        print(f\"{item.replace('_', ' ').title():<35} {you:>8} {llm:>8} {abs(you-llm):>8.1f}\")"
   ],
   "outputs": [
    {
     "output_type": "stream",
     "name": "stdout",
     "text": [
      "\n",
      "============================================================\n",
      "CULTURAL ADAPTATION COMPARISON\n",
      "============================================================\n",
      "\n",
      "Scenario                              You        LLM       Diff\n",
      "------------------------------------------------------------\n",
      "High-Context Culture                 0.00       3.67       3.67\n",
      "Low-Context Culture                  0.00       6.00       6.00\n",
      "------------------------------------------------------------\n",
      "\n",
      "\n",
      "DETAILED ITEM COMPARISON\n",
      "============================================================\n",
      "\n",
      "High-Context Culture:\n",
      "Item                                     You      LLM     Diff\n",
      "------------------------------------------------------------\n",
      "Comfort Everyday Life                      0        4      4.0\n",
      "Confidence Adjust Norms                    0        3      3.0\n",
      "Ease Interactions                          0        4      4.0\n",
      "\n",
      "Low-Context Culture:\n",
      "Item                                     You      LLM     Diff\n",
      "------------------------------------------------------------\n",
      "Comfort Everyday Life                      0        6      6.0\n",
      "Confidence Adjust Norms                    0        6      6.0\n",
      "Ease Interactions                          0        6      6.0\n"
     ]
    }
   ],
   "execution_count": 10
  },
  {
   "cell_type": "markdown",
   "metadata": {
    "id": "G-apMMT9jzN6"
   },
   "source": [
    "## Step 9: Visualize Cultural Adaptation Results"
   ]
  },
  {
   "cell_type": "code",
   "metadata": {
    "ExecuteTime": {
     "end_time": "2025-09-30T07:27:21.350479Z",
     "start_time": "2025-09-30T07:27:21.025243Z"
    },
    "id": "V4SMeE2cjzN7"
   },
   "source": [
    "if cultural_llm_responses:\n",
    "    fig, (ax1, ax2) = plt.subplots(1, 2, figsize=(16, 6))\n",
    "\n",
    "    # Average scores comparison\n",
    "    scenarios = ['High-Context\\nCulture', 'Low-Context\\nCulture']\n",
    "    your_scores = [avg_score(MY_HIGH_CONTEXT_RESPONSES), avg_score(MY_LOW_CONTEXT_RESPONSES)]\n",
    "    llm_scores = [avg_score(cultural_llm_responses['high_context']),\n",
    "                  avg_score(cultural_llm_responses['low_context'])]\n",
    "\n",
    "    x = np.arange(len(scenarios))\n",
    "    width = 0.35\n",
    "\n",
    "    bars1 = ax1.bar(x - width/2, your_scores, width, label='You', color='#2E86AB')\n",
    "    bars2 = ax1.bar(x + width/2, llm_scores, width, label='LLM', color='#A23B72')\n",
    "\n",
    "    ax1.set_ylabel('Average Comfort Score (1-7)', fontsize=11)\n",
    "    ax1.set_title('Cultural Adaptation: Average Comfort Levels', fontsize=13, fontweight='bold')\n",
    "    ax1.set_xticks(x)\n",
    "    ax1.set_xticklabels(scenarios)\n",
    "    ax1.legend()\n",
    "    ax1.set_ylim(0, 8)\n",
    "    ax1.grid(True, alpha=0.3, axis='y')\n",
    "\n",
    "    # Add value labels\n",
    "    for bars in [bars1, bars2]:\n",
    "        for bar in bars:\n",
    "            height = bar.get_height()\n",
    "            ax1.text(bar.get_x() + bar.get_width()/2., height + 0.1,\n",
    "                    f'{height:.2f}', ha='center', va='bottom', fontsize=10)\n",
    "\n",
    "    # Detailed items comparison\n",
    "    items = ['Comfort\\nEveryday Life', 'Confidence\\nAdjust Norms', 'Ease\\nInteractions']\n",
    "    item_keys = ['comfort_everyday_life', 'confidence_adjust_norms', 'ease_interactions']\n",
    "\n",
    "    your_high_vals = [MY_HIGH_CONTEXT_RESPONSES[k] for k in item_keys]\n",
    "    your_low_vals = [MY_LOW_CONTEXT_RESPONSES[k] for k in item_keys]\n",
    "    llm_high_vals = [cultural_llm_responses['high_context'][k] for k in item_keys]\n",
    "    llm_low_vals = [cultural_llm_responses['low_context'][k] for k in item_keys]\n",
    "\n",
    "    x2 = np.arange(len(items))\n",
    "    width2 = 0.2\n",
    "\n",
    "    ax2.bar(x2 - 1.5*width2, your_high_vals, width2, label='You (High-Context)', color='#2E86AB')\n",
    "    ax2.bar(x2 - 0.5*width2, llm_high_vals, width2, label='LLM (High-Context)', color='#A23B72')\n",
    "    ax2.bar(x2 + 0.5*width2, your_low_vals, width2, label='You (Low-Context)', color='#5BA3C7')\n",
    "    ax2.bar(x2 + 1.5*width2, llm_low_vals, width2, label='LLM (Low-Context)', color='#C274A8')\n",
    "\n",
    "    ax2.set_ylabel('Comfort Score (1-7)', fontsize=11)\n",
    "    ax2.set_title('Cultural Adaptation: Detailed Item Comparison', fontsize=13, fontweight='bold')\n",
    "    ax2.set_xticks(x2)\n",
    "    ax2.set_xticklabels(items)\n",
    "    ax2.legend(fontsize=8, loc='upper left')\n",
    "    ax2.set_ylim(0, 8)\n",
    "    ax2.grid(True, alpha=0.3, axis='y')\n",
    "\n",
    "    plt.tight_layout()\n",
    "    plt.show()"
   ],
   "outputs": [],
   "execution_count": null
  },
  {
   "cell_type": "markdown",
   "metadata": {
    "id": "Xs8IagLLjzN7"
   },
   "source": []
  },
  {
   "cell_type": "markdown",
   "metadata": {
    "id": "sDN6NdkAjzN7"
   },
   "source": [
    "# Optional Activities - Test Your Own Theories\n",
    "\n",
    "Use this space to design your own scenarios and test additional hypotheses about personality and decision-making."
   ]
  }
 ],
 "metadata": {
  "kernelspec": {
   "display_name": "Python 3",
   "language": "python",
   "name": "python3"
  },
  "language_info": {
   "codemirror_mode": {
    "name": "ipython",
    "version": 3
   },
   "file_extension": ".py",
   "mimetype": "text/x-python",
   "name": "python",
   "nbconvert_exporter": "python",
   "pygments_lexer": "ipython3",
   "version": "3.8.0"
  },
  "colab": {
   "provenance": []
  }
 },
 "nbformat": 4,
 "nbformat_minor": 0
}
